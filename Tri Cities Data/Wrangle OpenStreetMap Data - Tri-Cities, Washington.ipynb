{
 "cells": [
  {
   "cell_type": "markdown",
   "metadata": {},
   "source": [
    "# Wrangle OpenStreetMap Data - Tri-Cities, Washington"
   ]
  },
  {
   "cell_type": "markdown",
   "metadata": {},
   "source": [
    "## Introduction\n",
    "\n",
    "> This purpose of this project is to take a certain area of land and wrangle the data. Extract and clean the data to make it much more uniform and readable. The area I have chosen is an area called 'Tri-Cities' in Washington State. I chose this area as I have lived here for a long time. The original OpenStreetMap data I am using for this project can be found and exported [Here](https://www.openstreetmap.org/export#map=11/46.2421/-119.1886). I used an API called Overpass API to export this data. The documentation for Overpass API can be found [Here](https://wiki.openstreetmap.org/wiki/Overpass_API). The finished project and all files will be uploaded to [This GitHub Repository](https://github.com/TrikerDev/Wrangle-OpenStreetMap-Data---Tri-Cities---Washington)."
   ]
  },
  {
   "cell_type": "markdown",
   "metadata": {},
   "source": [
    "## Importing"
   ]
  },
  {
   "cell_type": "code",
   "execution_count": 8,
   "metadata": {},
   "outputs": [],
   "source": [
    "# Importing OSM File and packages\n",
    "\n",
    "import xml.etree.ElementTree as ET\n",
    "import pprint\n",
    "from collections import defaultdict\n",
    "import re\n",
    "import csv\n",
    "import codecs\n",
    "import sqlite3\n",
    "\n",
    "\n",
    "OSM_FILE = \"map.osm\""
   ]
  },
  {
   "cell_type": "markdown",
   "metadata": {},
   "source": [
    "## Gathering Tags"
   ]
  },
  {
   "cell_type": "code",
   "execution_count": 9,
   "metadata": {},
   "outputs": [],
   "source": [
    "# Getting tags\n",
    "def get_element(filename, tags=('node', 'way', 'relation')):\n",
    "    context = iter(ET.iterparse(filename, events=('start', 'end')))\n",
    "    _, root = next(context)\n",
    "    for event, elem in context:\n",
    "        if event == 'end' and elem.tag in tags:\n",
    "            yield elem\n",
    "            root.clear()"
   ]
  },
  {
   "cell_type": "markdown",
   "metadata": {},
   "source": [
    "## Fetching Tags"
   ]
  },
  {
   "cell_type": "code",
   "execution_count": 11,
   "metadata": {},
   "outputs": [
    {
     "name": "stdout",
     "output_type": "stream",
     "text": [
      "{'bounds': 1,\n",
      " 'member': 15770,\n",
      " 'meta': 1,\n",
      " 'nd': 434301,\n",
      " 'node': 368263,\n",
      " 'note': 1,\n",
      " 'osm': 1,\n",
      " 'relation': 1431,\n",
      " 'tag': 158810,\n",
      " 'way': 38417}\n"
     ]
    }
   ],
   "source": [
    "# Counting and returning tag counts per type of tag\n",
    "def count_tags(filename):\n",
    "    tree=ET.iterparse(filename)\n",
    "    tags={}\n",
    "    for event,elem in tree:\n",
    "        if elem.tag not in tags.keys():\n",
    "            tags[elem.tag]=1\n",
    "        else:\n",
    "            tags[elem.tag] = tags[elem.tag]+1\n",
    "    return tags    \n",
    "    \n",
    "with open(OSM_FILE,'rb') as f:\n",
    "    tags=count_tags(OSM_FILE)\n",
    "    pprint.pprint(tags)\n",
    "f.close()"
   ]
  },
  {
   "cell_type": "code",
   "execution_count": null,
   "metadata": {},
   "outputs": [],
   "source": []
  },
  {
   "cell_type": "code",
   "execution_count": null,
   "metadata": {},
   "outputs": [],
   "source": []
  },
  {
   "cell_type": "code",
   "execution_count": null,
   "metadata": {},
   "outputs": [],
   "source": []
  },
  {
   "cell_type": "code",
   "execution_count": null,
   "metadata": {},
   "outputs": [],
   "source": []
  }
 ],
 "metadata": {
  "kernelspec": {
   "display_name": "Python 3",
   "language": "python",
   "name": "python3"
  },
  "language_info": {
   "codemirror_mode": {
    "name": "ipython",
    "version": 3
   },
   "file_extension": ".py",
   "mimetype": "text/x-python",
   "name": "python",
   "nbconvert_exporter": "python",
   "pygments_lexer": "ipython3",
   "version": "3.7.7"
  }
 },
 "nbformat": 4,
 "nbformat_minor": 4
}
